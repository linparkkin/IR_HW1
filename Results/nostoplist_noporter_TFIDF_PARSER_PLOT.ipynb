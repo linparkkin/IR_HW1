{
 "cells": [
  {
   "cell_type": "markdown",
   "metadata": {},
   "source": [
    "# Parser"
   ]
  },
  {
   "cell_type": "code",
   "execution_count": 85,
   "metadata": {},
   "outputs": [],
   "source": [
    "import numpy as np\n",
    "import pandas as pd\n",
    "import matplotlib.pyplot as plt\n",
    "\n",
    "#read data\n",
    "data = pd.read_csv('./nostoplist_noporter_TFIDF/trec_eval_results/nostoplist_noporter_TFIDF_trec_eval.txt', header = 0, names = [\"Measure\", \"Topic\", \"Value\"],sep='\\t')\n",
    "df=pd.DataFrame(data)\n",
    "#numpy array with map values\n",
    "npmap=[]\n",
    "#numpy array with Rprec values\n",
    "npRprec=[]\n",
    "#numpy array with Precision at 10 values\n",
    "npp10=[]\n",
    "for index,row in df.iterrows():\n",
    "    if(row[\"Topic\"].rstrip()==\"all\"):\n",
    "        #skip the overall values\n",
    "        pass\n",
    "    elif(row[\"Measure\"].rstrip()==\"map\"):\n",
    "        npmap=np.append(npmap, row[\"Value\"])\n",
    "    elif(row[\"Measure\"].rstrip()==\"Rprec\"):\n",
    "        npRprec=np.append(npRprec, row[\"Value\"])\n",
    "    elif(row[\"Measure\"].rstrip()==\"P_10\"):\n",
    "        npp10= np.append(npp10, row[\"Value\"])    "
   ]
  },
  {
   "cell_type": "markdown",
   "metadata": {},
   "source": [
    "# Plot"
   ]
  },
  {
   "cell_type": "code",
   "execution_count": 98,
   "metadata": {},
   "outputs": [
    {
     "data": {
      "image/png": "[encoded data removed]",
      "text/plain": [
       "<Figure size 432x288 with 1 Axes>"
      ]
     },
     "metadata": {
      "needs_background": "light"
     },
     "output_type": "display_data"
    }
   ],
   "source": [
    "indexes=np.arange(50)\n",
    "ffig, ax = plt.subplots()\n",
    "width=0.2\n",
    "\n",
    "ax.bar(indexes[:]-width,npmap[:],width,color ='#EF9855', label='coreset construction')\n",
    "ax.bar(indexes[:],npmap[:],width,color ='#47C240', label='load and count file')\n",
    "ax.bar(indexes[:]+width,npmap[:],width,color ='#85BFFC', label='sequential algorithm')\n",
    "\n",
    "ax.legend(loc=4, shadow = True)\n",
    "#plt.xticks(b,labels);\n",
    "#plt.yscale('log')\n",
    "ax.set_ylabel('Precision')\n",
    "ax.set_xlabel('Topic')\n",
    "plt.show()\n",
    "\n"
   ]
  },
  {
   "cell_type": "code",
   "execution_count": null,
   "metadata": {},
   "outputs": [],
   "source": []
  }
 ],
 "metadata": {
  "kernelspec": {
   "display_name": "Python 3",
   "language": "python",
   "name": "python3"
  },
  "language_info": {
   "codemirror_mode": {
    "name": "ipython",
    "version": 3
   },
   "file_extension": ".py",
   "mimetype": "text/x-python",
   "name": "python",
   "nbconvert_exporter": "python",
   "pygments_lexer": "ipython3",
   "version": "3.7.0"
  }
 },
 "nbformat": 4,
 "nbformat_minor": 2
}
