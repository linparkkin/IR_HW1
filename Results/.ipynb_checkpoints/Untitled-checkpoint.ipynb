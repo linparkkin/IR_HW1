{
 "cells": [
  {
   "cell_type": "markdown",
   "metadata": {},
   "source": [
    "# Parser"
   ]
  },
  {
   "cell_type": "code",
   "execution_count": 59,
   "metadata": {},
   "outputs": [
    {
     "ename": "SyntaxError",
     "evalue": "invalid syntax (<ipython-input-59-d1b09cfc3ae4>, line 14)",
     "output_type": "error",
     "traceback": [
      "\u001b[0;36m  File \u001b[0;32m\"<ipython-input-59-d1b09cfc3ae4>\"\u001b[0;36m, line \u001b[0;32m14\u001b[0m\n\u001b[0;31m    print(row[\"Measure\"]==\"map\"))\u001b[0m\n\u001b[0m                                ^\u001b[0m\n\u001b[0;31mSyntaxError\u001b[0m\u001b[0;31m:\u001b[0m invalid syntax\n"
     ]
    }
   ],
   "source": [
    "import numpy as np\n",
    "import pandas as pd\n",
    "import matplotlib.pyplot as plt\n",
    "\n",
    "#read data\n",
    "data = pd.read_csv('./nostoplist_noporter_TFIDF/trec_eval_results/nostoplist_noporter_TFIDF_trec_eval.txt', header = 0, names = [\"Measure\", \"Topic\", \"Value\"],sep='\\t')\n",
    "data.head()\n",
    "df=pd.DataFrame(data)\n",
    "npmap=[]\n",
    "npRprec=[]\n",
    "npp10=[]\n",
    "for index,row in df.iterrows():\n",
    "    print(row[\"Measure\"] + \"=\" + \"map?\")\n",
    "    print(row[\"Measure\"]==\"map\"))\n",
    "    if(row[\"Measure\"]==\"map\"):\n",
    "        npmap=np.append(row[\"Value\"])\n",
    "    if(row[\"Measure\"]==\"Rprec\"):\n",
    "        npRprec=np.append(row[\"Value\"])\n",
    "    if(row[\"Measure\"]==\"P_10\"):\n",
    "        npp10= np.append(row[\"Value\"])\n",
    "print(npmap)\n",
    "    "
   ]
  },
  {
   "cell_type": "code",
   "execution_count": null,
   "metadata": {},
   "outputs": [],
   "source": []
  },
  {
   "cell_type": "code",
   "execution_count": null,
   "metadata": {},
   "outputs": [],
   "source": []
  }
 ],
 "metadata": {
  "kernelspec": {
   "display_name": "Python 3",
   "language": "python",
   "name": "python3"
  },
  "language_info": {
   "codemirror_mode": {
    "name": "ipython",
    "version": 3
   },
   "file_extension": ".py",
   "mimetype": "text/x-python",
   "name": "python",
   "nbconvert_exporter": "python",
   "pygments_lexer": "ipython3",
   "version": "3.7.0"
  }
 },
 "nbformat": 4,
 "nbformat_minor": 2
}
